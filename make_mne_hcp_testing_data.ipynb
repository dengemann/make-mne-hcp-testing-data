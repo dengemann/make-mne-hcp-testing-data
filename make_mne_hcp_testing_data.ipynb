{
 "cells": [
  {
   "cell_type": "code",
   "execution_count": 1,
   "metadata": {
    "collapsed": true
   },
   "outputs": [],
   "source": [
    "%reload_ext autoreload\n",
    "%autoreload 2"
   ]
  },
  {
   "cell_type": "code",
   "execution_count": 59,
   "metadata": {
    "collapsed": true
   },
   "outputs": [],
   "source": [
    "import os.path as op\n",
    "import os\n",
    "import hcp\n",
    "import glob\n",
    "import shutil\n",
    "from scipy.io import loadmat, savemat"
   ]
  },
  {
   "cell_type": "code",
   "execution_count": 3,
   "metadata": {
    "collapsed": true
   },
   "outputs": [],
   "source": [
    "subject = '105923'\n",
    "base_data_path = op.expanduser('/Users/dengemann/mne-hcp-data')\n",
    "testing_data_path = op.join(base_data_path, 'mne-hcp-testing')\n",
    "hcp_data_path = op.join(base_data_path, 'HCP')\n",
    "data_types = ['task_working_memory', 'task_motor', 'task_story_math', 'rest',\n",
    "              'noise_subject', 'noise_empty_room']\n",
    "test_zip = op.join(base_data_path, 'hcp105923')"
   ]
  },
  {
   "cell_type": "markdown",
   "metadata": {},
   "source": [
    "# copy over edited raw files"
   ]
  },
  {
   "cell_type": "code",
   "execution_count": 4,
   "metadata": {
    "collapsed": true
   },
   "outputs": [],
   "source": [
    "def edit(fname):\n",
    "    fname = (fname.replace(test_zip, testing_data_path)\n",
    "                  .replace('unprocd', '%s/unprocessed/MEG' % subject)\n",
    "                  .replace(',ee', ''))\n",
    "    return fname"
   ]
  },
  {
   "cell_type": "code",
   "execution_count": 5,
   "metadata": {
    "collapsed": false
   },
   "outputs": [],
   "source": [
    "fnames = list()\n",
    "fnames.extend(glob.glob(test_zip + \"/*/*/*/config\"))\n",
    "fnames.extend(glob.glob(test_zip + \"/*/*/*/*,ee\"))\n",
    "fnames_to = [edit(f) for f in fnames]\n",
    "new_paths = {op.dirname(f) for f in fnames_to}\n",
    "for path in new_paths:\n",
    "    if not op.exists(path):\n",
    "        os.makedirs(path)"
   ]
  },
  {
   "cell_type": "code",
   "execution_count": 6,
   "metadata": {
    "collapsed": false
   },
   "outputs": [],
   "source": [
    "for old_name, new_name in zip(fnames, fnames_to):\n",
    "    shutil.copy(old_name, new_name)"
   ]
  },
  {
   "cell_type": "markdown",
   "metadata": {},
   "source": [
    "# copy over files from download "
   ]
  },
  {
   "cell_type": "code",
   "execution_count": 7,
   "metadata": {
    "collapsed": false,
    "scrolled": false
   },
   "outputs": [],
   "source": [
    "files_from_subject = hcp.file_mapping.get_s3_keys_meg(\n",
    "    subject=subject, data_types=data_types,\n",
    "    outputs=('epochs', 'ica', 'bads', 'trial_info'), run_inds=list(range(3)),\n",
    "    hcp_path_bucket=hcp_data_path)\n",
    "files_from_subject.extend(glob.glob(hcp_data_path + '/%s/T1w/*/*/*' % subject))\n",
    "files_from_subject.extend(hcp.file_mapping.get_s3_keys_anatomy(\n",
    "    subject=subject,\n",
    "    freesurfer_outputs=(),\n",
    "    hcp_path_bucket=hcp_data_path))"
   ]
  },
  {
   "cell_type": "code",
   "execution_count": 8,
   "metadata": {
    "collapsed": true
   },
   "outputs": [],
   "source": [
    "files_to_testing = [ff.replace(hcp_data_path, testing_data_path) for ff in files_from_subject]"
   ]
  },
  {
   "cell_type": "code",
   "execution_count": 65,
   "metadata": {
    "collapsed": false
   },
   "outputs": [],
   "source": [
    "new_paths = {op.dirname(f) for f in files_to_testing}\n",
    "for path in new_paths:\n",
    "    if not op.exists(path):\n",
    "        os.makedirs(path)"
   ]
  },
  {
   "cell_type": "code",
   "execution_count": 67,
   "metadata": {
    "collapsed": false
   },
   "outputs": [],
   "source": [
    "for old_name, new_name in zip(files_from_subject,\n",
    "                              files_to_testing):\n",
    "    shutil.copy(old_name, new_name)"
   ]
  },
  {
   "cell_type": "markdown",
   "metadata": {},
   "source": [
    "# edit epochs files"
   ]
  },
  {
   "cell_type": "code",
   "execution_count": 39,
   "metadata": {
    "collapsed": false
   },
   "outputs": [],
   "source": [
    "epochs_files = list()\n",
    "for data_type in data_types:\n",
    "    if 'noise' in data_type:\n",
    "        continue\n",
    "    n_runs = len(hcp.io.file_mapping.file_mapping.run_map[data_type])\n",
    "    for run_index in range(n_runs): \n",
    "        epochs_files.extend(\n",
    "            [hcp.file_mapping.get_file_paths(\n",
    "                subject=subject, hcp_path=testing_data_path,\n",
    "                output='epochs', data_type=data_type, onset=onset, run_index=run_index)[0]\n",
    "             for onset in ('stim', 'resp')])"
   ]
  },
  {
   "cell_type": "code",
   "execution_count": 43,
   "metadata": {
    "collapsed": false
   },
   "outputs": [],
   "source": [
    "this_epochs_files = [ff for ff in\n",
    "                     glob.glob(op.join(testing_data_path, '105923/MEG/*/*megpreproc/*mat'))\n",
    "                     if ff in epochs_files]"
   ]
  },
  {
   "cell_type": "code",
   "execution_count": 64,
   "metadata": {
    "collapsed": true
   },
   "outputs": [],
   "source": [
    "mne.epochs._check_decim??"
   ]
  },
  {
   "cell_type": "code",
   "execution_count": 52,
   "metadata": {
    "collapsed": true
   },
   "outputs": [],
   "source": [
    "def decim_hcp_mat_epochs(fname, decim=100):\n",
    "    mat = loadmat(fname, squeeze_me=False)\n",
    "    data = mat['data']\n",
    "    for ii, this_times in enumerate(data['time'][0][0][0]):\n",
    "        data['time'][0][0][0][ii] = this_times[:, ::decim]\n",
    "    for ii, this_trial in enumerate(data['trial'][0][0][0]):\n",
    "        data['trial'][0][0][0][ii] = this_trial[:, ::decim]\n",
    "    data['fsample'][0][0][0][0] /= float(decim)\n",
    "    mat['data'] = data\n",
    "    savemat(fname, mat)\n"
   ]
  },
  {
   "cell_type": "code",
   "execution_count": 53,
   "metadata": {
    "collapsed": true
   },
   "outputs": [],
   "source": [
    "for fname in this_epochs_files:\n",
    "    decim_hcp_mat_epochs(fname)"
   ]
  },
  {
   "cell_type": "code",
   "execution_count": 68,
   "metadata": {
    "collapsed": true
   },
   "outputs": [],
   "source": [
    "fname = this_epochs_files[-3]"
   ]
  },
  {
   "cell_type": "code",
   "execution_count": 69,
   "metadata": {
    "collapsed": true
   },
   "outputs": [],
   "source": [
    "mat = loadmat(fname, squeeze_me=False)"
   ]
  },
  {
   "cell_type": "code",
   "execution_count": 71,
   "metadata": {
    "collapsed": false
   },
   "outputs": [
    {
     "data": {
      "text/plain": [
       "5.0862752490487884"
      ]
     },
     "execution_count": 71,
     "metadata": {},
     "output_type": "execute_result"
    }
   ],
   "source": [
    "data['fsample'][0][0][0][0]/float(100)"
   ]
  },
  {
   "cell_type": "code",
   "execution_count": 77,
   "metadata": {
    "collapsed": false
   },
   "outputs": [],
   "source": [
    "times = data['time'][0][0][0][0][:, ::100]"
   ]
  },
  {
   "cell_type": "code",
   "execution_count": 78,
   "metadata": {
    "collapsed": false
   },
   "outputs": [
    {
     "data": {
      "text/plain": [
       "array([[-1.49962391, -1.30301639, -1.10640886, -0.90980133, -0.71319381,\n",
       "        -0.51658628, -0.31997875, -0.12337122,  0.0732363 ,  0.26984383,\n",
       "         0.46645136,  0.66305889,  0.85966641,  1.05627394,  1.25288147,\n",
       "         1.449489  ,  1.64609652,  1.84270405,  2.03931158,  2.2359191 ,\n",
       "         2.43252663,  2.62913416,  2.82574169,  3.02234921,  3.21895674,\n",
       "         3.41556427,  3.6121718 ,  3.80877932]])"
      ]
     },
     "execution_count": 78,
     "metadata": {},
     "output_type": "execute_result"
    }
   ],
   "source": [
    "times"
   ]
  },
  {
   "cell_type": "code",
   "execution_count": 80,
   "metadata": {
    "collapsed": true
   },
   "outputs": [],
   "source": [
    "decim = 100"
   ]
  },
  {
   "cell_type": "code",
   "execution_count": 81,
   "metadata": {
    "collapsed": false
   },
   "outputs": [],
   "source": [
    "for ii, this_trial in enumerate(data['trial'][0][0][0]):\n",
    "        data['trial'][0][0][0][ii] = this_trial[:, ::decim]"
   ]
  },
  {
   "cell_type": "code",
   "execution_count": 163,
   "metadata": {
    "collapsed": false
   },
   "outputs": [],
   "source": [
    "shape = (195,) + data['trial'][0][0][0][0].shape"
   ]
  },
  {
   "cell_type": "code",
   "execution_count": 164,
   "metadata": {
    "collapsed": true
   },
   "outputs": [],
   "source": [
    "tmin = times.min()"
   ]
  },
  {
   "cell_type": "code",
   "execution_count": 179,
   "metadata": {
    "collapsed": false
   },
   "outputs": [],
   "source": [
    "sfreq = round(data['fsample'][0][0][0][0], 3) / float(decim)"
   ]
  },
  {
   "cell_type": "code",
   "execution_count": 166,
   "metadata": {
    "collapsed": false
   },
   "outputs": [],
   "source": [
    "tmax = (shape[2] - 1) / sfreq + tmin"
   ]
  },
  {
   "cell_type": "code",
   "execution_count": 168,
   "metadata": {
    "collapsed": false
   },
   "outputs": [
    {
     "data": {
      "text/plain": [
       "True"
      ]
     },
     "execution_count": 168,
     "metadata": {},
     "output_type": "execute_result"
    }
   ],
   "source": [
    "tmax == times.max()"
   ]
  },
  {
   "cell_type": "code",
   "execution_count": 182,
   "metadata": {
    "collapsed": false
   },
   "outputs": [
    {
     "data": {
      "text/plain": [
       "False"
      ]
     },
     "execution_count": 182,
     "metadata": {},
     "output_type": "execute_result"
    }
   ],
   "source": [
    "tmin == times.min()"
   ]
  },
  {
   "cell_type": "code",
   "execution_count": 189,
   "metadata": {
    "collapsed": false
   },
   "outputs": [],
   "source": [
    "sfreq = data['fsample'][0][0][0][0] / float(decim)"
   ]
  },
  {
   "cell_type": "code",
   "execution_count": 190,
   "metadata": {
    "collapsed": true
   },
   "outputs": [],
   "source": [
    "start_idx = int(round(-1.5 * sfreq))"
   ]
  },
  {
   "cell_type": "code",
   "execution_count": 193,
   "metadata": {
    "collapsed": false
   },
   "outputs": [
    {
     "data": {
      "text/plain": [
       "array([-1.57286022, -1.37625269, -1.17964516, -0.98303764, -0.78643011,\n",
       "       -0.58982258, -0.39321505, -0.19660753,  0.        ,  0.19660753,\n",
       "        0.39321505,  0.58982258,  0.78643011,  0.98303764,  1.17964516,\n",
       "        1.37625269,  1.57286022,  1.76946775,  1.96607527,  2.1626828 ,\n",
       "        2.35929033,  2.55589786,  2.75250538,  2.94911291,  3.14572044,\n",
       "        3.34232796,  3.53893549])"
      ]
     },
     "execution_count": 193,
     "metadata": {},
     "output_type": "execute_result"
    }
   ],
   "source": [
    "np.arange(start_idx,\n",
    "          int(round(tmax * sfreq))) / float(sfreq)"
   ]
  },
  {
   "cell_type": "code",
   "execution_count": 194,
   "metadata": {
    "collapsed": false
   },
   "outputs": [
    {
     "data": {
      "text/plain": [
       "array([[-1.49962391, -1.30301639, -1.10640886, -0.90980133, -0.71319381,\n",
       "        -0.51658628, -0.31997875, -0.12337122,  0.0732363 ,  0.26984383,\n",
       "         0.46645136,  0.66305889,  0.85966641,  1.05627394,  1.25288147,\n",
       "         1.449489  ,  1.64609652,  1.84270405,  2.03931158,  2.2359191 ,\n",
       "         2.43252663,  2.62913416,  2.82574169,  3.02234921,  3.21895674,\n",
       "         3.41556427,  3.6121718 ,  3.80877932]])"
      ]
     },
     "execution_count": 194,
     "metadata": {},
     "output_type": "execute_result"
    }
   ],
   "source": [
    "times"
   ]
  },
  {
   "cell_type": "code",
   "execution_count": 126,
   "metadata": {
    "collapsed": false
   },
   "outputs": [
    {
     "data": {
      "text/plain": [
       "3.8087793230661191"
      ]
     },
     "execution_count": 126,
     "metadata": {},
     "output_type": "execute_result"
    }
   ],
   "source": [
    "tmax"
   ]
  },
  {
   "cell_type": "code",
   "execution_count": 127,
   "metadata": {
    "collapsed": false
   },
   "outputs": [
    {
     "data": {
      "text/plain": [
       "-1.499623914656695"
      ]
     },
     "execution_count": 127,
     "metadata": {},
     "output_type": "execute_result"
    }
   ],
   "source": [
    "tmin"
   ]
  },
  {
   "cell_type": "markdown",
   "metadata": {},
   "source": [
    "# take care of ICA"
   ]
  },
  {
   "cell_type": "code",
   "execution_count": 54,
   "metadata": {
    "collapsed": false
   },
   "outputs": [],
   "source": [
    "ica_fnames = glob.glob(op.join(testing_data_path, '105923/MEG/*/*ica*/*mat'))"
   ]
  },
  {
   "cell_type": "code",
   "execution_count": 57,
   "metadata": {
    "collapsed": false
   },
   "outputs": [],
   "source": [
    "def decim_hcp_mat_ica(fname):\n",
    "    mat = loadmat(fname, squeeze_me=False)\n",
    "    data = mat['comp_class']\n",
    "    data['trial'] = 0\n",
    "    mat['comp_class'] = data\n",
    "    mat['options'] = []\n",
    "    savemat(fname, mat)"
   ]
  },
  {
   "cell_type": "code",
   "execution_count": 56,
   "metadata": {
    "collapsed": false
   },
   "outputs": [],
   "source": [
    "for fname in ica_fnames:\n",
    "    decim_hcp_mat_ica(fname)"
   ]
  },
  {
   "cell_type": "code",
   "execution_count": 61,
   "metadata": {
    "collapsed": false
   },
   "outputs": [],
   "source": [
    "import mne"
   ]
  },
  {
   "cell_type": "code",
   "execution_count": 62,
   "metadata": {
    "collapsed": true
   },
   "outputs": [],
   "source": [
    "mne.EpochsArray?"
   ]
  }
 ],
 "metadata": {
  "kernelspec": {
   "display_name": "Python 3",
   "language": "python",
   "name": "python3"
  },
  "language_info": {
   "codemirror_mode": {
    "name": "ipython",
    "version": 3
   },
   "file_extension": ".py",
   "mimetype": "text/x-python",
   "name": "python",
   "nbconvert_exporter": "python",
   "pygments_lexer": "ipython3",
   "version": "3.5.2"
  }
 },
 "nbformat": 4,
 "nbformat_minor": 0
}
