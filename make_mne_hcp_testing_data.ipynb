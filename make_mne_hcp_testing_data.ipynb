{
 "cells": [
  {
   "cell_type": "code",
   "execution_count": 1,
   "metadata": {
    "collapsed": true
   },
   "outputs": [],
   "source": [
    "%reload_ext autoreload\n",
    "%autoreload 2"
   ]
  },
  {
   "cell_type": "code",
   "execution_count": 59,
   "metadata": {
    "collapsed": true
   },
   "outputs": [],
   "source": [
    "import os.path as op\n",
    "import os\n",
    "import hcp\n",
    "import glob\n",
    "import shutil\n",
    "from scipy.io import loadmat, savemat"
   ]
  },
  {
   "cell_type": "code",
   "execution_count": 3,
   "metadata": {
    "collapsed": true
   },
   "outputs": [],
   "source": [
    "subject = '105923'\n",
    "base_data_path = op.expanduser('/Users/dengemann/mne-hcp-data')\n",
    "testing_data_path = op.join(base_data_path, 'mne-hcp-testing')\n",
    "hcp_data_path = op.join(base_data_path, 'HCP')\n",
    "data_types = ['task_working_memory', 'task_motor', 'task_story_math', 'rest',\n",
    "              'noise_subject', 'noise_empty_room']\n",
    "test_zip = op.join(base_data_path, 'hcp105923')"
   ]
  },
  {
   "cell_type": "markdown",
   "metadata": {},
   "source": [
    "# copy over edited raw files"
   ]
  },
  {
   "cell_type": "code",
   "execution_count": 4,
   "metadata": {
    "collapsed": true
   },
   "outputs": [],
   "source": [
    "def edit(fname):\n",
    "    fname = (fname.replace(test_zip, testing_data_path)\n",
    "                  .replace('unprocd', '%s/unprocessed/MEG' % subject)\n",
    "                  .replace(',ee', ''))\n",
    "    return fname"
   ]
  },
  {
   "cell_type": "code",
   "execution_count": 5,
   "metadata": {
    "collapsed": false
   },
   "outputs": [],
   "source": [
    "fnames = list()\n",
    "fnames.extend(glob.glob(test_zip + \"/*/*/*/config\"))\n",
    "fnames.extend(glob.glob(test_zip + \"/*/*/*/*,ee\"))\n",
    "fnames_to = [edit(f) for f in fnames]\n",
    "new_paths = {op.dirname(f) for f in fnames_to}\n",
    "for path in new_paths:\n",
    "    if not op.exists(path):\n",
    "        os.makedirs(path)"
   ]
  },
  {
   "cell_type": "code",
   "execution_count": 6,
   "metadata": {
    "collapsed": false
   },
   "outputs": [],
   "source": [
    "for old_name, new_name in zip(fnames, fnames_to):\n",
    "    shutil.copy(old_name, new_name)"
   ]
  },
  {
   "cell_type": "markdown",
   "metadata": {},
   "source": [
    "# copy over files from download "
   ]
  },
  {
   "cell_type": "code",
   "execution_count": 7,
   "metadata": {
    "collapsed": false,
    "scrolled": false
   },
   "outputs": [],
   "source": [
    "files_from_subject = hcp.file_mapping.get_s3_keys_meg(\n",
    "    subject=subject, data_types=data_types,\n",
    "    outputs=('epochs', 'ica', 'bads', 'trial_info'), run_inds=list(range(3)),\n",
    "    hcp_path_bucket=hcp_data_path)\n",
    "files_from_subject.extend(glob.glob(hcp_data_path + '/%s/T1w/*/*/*' % subject))\n",
    "files_from_subject.extend(hcp.file_mapping.get_s3_keys_anatomy(\n",
    "    subject=subject,\n",
    "    freesurfer_outputs=(),\n",
    "    hcp_path_bucket=hcp_data_path))"
   ]
  },
  {
   "cell_type": "code",
   "execution_count": 8,
   "metadata": {
    "collapsed": true
   },
   "outputs": [],
   "source": [
    "files_to_testing = [ff.replace(hcp_data_path, testing_data_path) for ff in files_from_subject]"
   ]
  },
  {
   "cell_type": "code",
   "execution_count": 65,
   "metadata": {
    "collapsed": false
   },
   "outputs": [],
   "source": [
    "new_paths = {op.dirname(f) for f in files_to_testing}\n",
    "for path in new_paths:\n",
    "    if not op.exists(path):\n",
    "        os.makedirs(path)"
   ]
  },
  {
   "cell_type": "code",
   "execution_count": 67,
   "metadata": {
    "collapsed": false
   },
   "outputs": [],
   "source": [
    "for old_name, new_name in zip(files_from_subject,\n",
    "                              files_to_testing):\n",
    "    shutil.copy(old_name, new_name)"
   ]
  },
  {
   "cell_type": "markdown",
   "metadata": {},
   "source": [
    "# edit epochs files"
   ]
  },
  {
   "cell_type": "code",
   "execution_count": 39,
   "metadata": {
    "collapsed": false
   },
   "outputs": [],
   "source": [
    "epochs_files = list()\n",
    "for data_type in data_types:\n",
    "    if 'noise' in data_type:\n",
    "        continue\n",
    "    n_runs = len(hcp.io.file_mapping.file_mapping.run_map[data_type])\n",
    "    for run_index in range(n_runs): \n",
    "        epochs_files.extend(\n",
    "            [hcp.file_mapping.get_file_paths(\n",
    "                subject=subject, hcp_path=testing_data_path,\n",
    "                output='epochs', data_type=data_type, onset=onset, run_index=run_index)[0]\n",
    "             for onset in ('stim', 'resp')])"
   ]
  },
  {
   "cell_type": "code",
   "execution_count": 43,
   "metadata": {
    "collapsed": false
   },
   "outputs": [],
   "source": [
    "this_epochs_files = [ff for ff in\n",
    "                     glob.glob(op.join(testing_data_path, '105923/MEG/*/*megpreproc/*mat'))\n",
    "                     if ff in epochs_files]"
   ]
  },
  {
   "cell_type": "code",
   "execution_count": 378,
   "metadata": {
    "collapsed": true
   },
   "outputs": [],
   "source": [
    "def decim_hcp_mat_epochs(fname, decim=100):\n",
    "    mat = loadmat(fname, squeeze_me=False)\n",
    "    data = mat['data']\n",
    "    for ii, this_times in enumerate(data['time'][0][0][0]):\n",
    "        data['time'][0][0][0][ii] = this_times[:, ::decim]\n",
    "    for ii, this_trial in enumerate(data['trial'][0][0][0]):\n",
    "        data['trial'][0][0][0][ii] = this_trial[:, ::decim]\n",
    "    data['fsample'][0][0][0][0] /= float(decim)\n",
    "    mat['data'] = data\n",
    "    savemat(fname, mat)\n"
   ]
  },
  {
   "cell_type": "code",
   "execution_count": 379,
   "metadata": {
    "collapsed": true
   },
   "outputs": [],
   "source": [
    "for fname in this_epochs_files:\n",
    "    decim_hcp_mat_epochs(fname)"
   ]
  },
  {
   "cell_type": "markdown",
   "metadata": {},
   "source": [
    "# take care of ICA"
   ]
  },
  {
   "cell_type": "code",
   "execution_count": 380,
   "metadata": {
    "collapsed": true
   },
   "outputs": [],
   "source": [
    "ica_fnames = glob.glob(op.join(testing_data_path, '105923/MEG/*/*ica*/*mat'))\n",
    "\n",
    "def decim_hcp_mat_ica(fname):\n",
    "    mat = loadmat(fname, squeeze_me=False)\n",
    "    data = mat['comp_class']\n",
    "    data['trial'] = 0\n",
    "    mat['comp_class'] = data\n",
    "    mat['options'] = []\n",
    "    savemat(fname, mat)\n",
    "    \n",
    "for fname in ica_fnames:\n",
    "    decim_hcp_mat_ica(fname)"
   ]
  },
  {
   "cell_type": "markdown",
   "metadata": {},
   "source": [
    "# Weird bug with mne EpochsArray times constructor"
   ]
  },
  {
   "cell_type": "code",
   "execution_count": 68,
   "metadata": {
    "collapsed": true
   },
   "outputs": [],
   "source": [
    "fname = this_epochs_files[-3]"
   ]
  },
  {
   "cell_type": "code",
   "execution_count": 289,
   "metadata": {
    "collapsed": true
   },
   "outputs": [],
   "source": [
    "mat = loadmat(fname, squeeze_me=False)"
   ]
  },
  {
   "cell_type": "code",
   "execution_count": 290,
   "metadata": {
    "collapsed": true
   },
   "outputs": [],
   "source": [
    "data = mat['data']"
   ]
  },
  {
   "cell_type": "code",
   "execution_count": 291,
   "metadata": {
    "collapsed": true
   },
   "outputs": [],
   "source": [
    "decim = 1"
   ]
  },
  {
   "cell_type": "code",
   "execution_count": 292,
   "metadata": {
    "collapsed": false
   },
   "outputs": [],
   "source": [
    "times = data['time'][0][0][0][0][:, ::decim]"
   ]
  },
  {
   "cell_type": "code",
   "execution_count": 331,
   "metadata": {
    "collapsed": false
   },
   "outputs": [],
   "source": [
    "for ii, this_trial in enumerate(data['trial'][0][0][0]):\n",
    "    data['trial'][0][0][0][ii] = this_trial[:, ::decim]"
   ]
  },
  {
   "cell_type": "code",
   "execution_count": 354,
   "metadata": {
    "collapsed": false
   },
   "outputs": [
    {
     "data": {
      "text/plain": [
       "(195, 245, 2798)"
      ]
     },
     "execution_count": 354,
     "metadata": {},
     "output_type": "execute_result"
    }
   ],
   "source": [
    "shape = data['trial'][0][0][0].shape + data['trial'][0][0][0][0].shape\n",
    "shape"
   ]
  },
  {
   "cell_type": "code",
   "execution_count": 333,
   "metadata": {
    "collapsed": true
   },
   "outputs": [],
   "source": [
    "tmin = times.min()"
   ]
  },
  {
   "cell_type": "code",
   "execution_count": 369,
   "metadata": {
    "collapsed": false
   },
   "outputs": [],
   "source": [
    "sfreq = data['fsample'][0][0][0][0] / float(decim)"
   ]
  },
  {
   "cell_type": "code",
   "execution_count": 370,
   "metadata": {
    "collapsed": false
   },
   "outputs": [],
   "source": [
    "tmax = (shape[2] - 1) / sfreq + tmin"
   ]
  },
  {
   "cell_type": "code",
   "execution_count": 371,
   "metadata": {
    "collapsed": false
   },
   "outputs": [
    {
     "data": {
      "text/plain": [
       "False"
      ]
     },
     "execution_count": 371,
     "metadata": {},
     "output_type": "execute_result"
    }
   ],
   "source": [
    "tmax == times.max()"
   ]
  },
  {
   "cell_type": "code",
   "execution_count": 372,
   "metadata": {
    "collapsed": false
   },
   "outputs": [],
   "source": [
    "tmin = -1.5"
   ]
  },
  {
   "cell_type": "code",
   "execution_count": 373,
   "metadata": {
    "collapsed": true
   },
   "outputs": [],
   "source": [
    "start_idx = int(round(tmin * sfreq))"
   ]
  },
  {
   "cell_type": "code",
   "execution_count": 374,
   "metadata": {
    "collapsed": false
   },
   "outputs": [],
   "source": [
    "rec_times = np.arange(start_idx,\n",
    "                      int(round(tmax * sfreq)) + 1) / float(sfreq)"
   ]
  },
  {
   "cell_type": "code",
   "execution_count": 375,
   "metadata": {
    "collapsed": false
   },
   "outputs": [
    {
     "data": {
      "text/plain": [
       "False"
      ]
     },
     "execution_count": 375,
     "metadata": {},
     "output_type": "execute_result"
    }
   ],
   "source": [
    "np.allclose(times, rec_times, atol=0.000001)"
   ]
  },
  {
   "cell_type": "code",
   "execution_count": 376,
   "metadata": {
    "collapsed": false
   },
   "outputs": [
    {
     "data": {
      "text/plain": [
       "False"
      ]
     },
     "execution_count": 376,
     "metadata": {},
     "output_type": "execute_result"
    }
   ],
   "source": [
    "np.allclose(times, np.linspace(tmin, tmax, shape[2]), atol=0.000001)"
   ]
  },
  {
   "cell_type": "code",
   "execution_count": 377,
   "metadata": {
    "collapsed": false
   },
   "outputs": [
    {
     "data": {
      "text/plain": [
       "array([-1.50011543, -1.49814936, -1.49618328, ...,  3.99506496,\n",
       "        3.99703103,  3.99899711])"
      ]
     },
     "execution_count": 377,
     "metadata": {},
     "output_type": "execute_result"
    }
   ],
   "source": [
    "rec_times"
   ]
  },
  {
   "cell_type": "code",
   "execution_count": 393,
   "metadata": {
    "collapsed": false
   },
   "outputs": [],
   "source": [
    "np.allclose??"
   ]
  }
 ],
 "metadata": {
  "kernelspec": {
   "display_name": "Python 3",
   "language": "python",
   "name": "python3"
  },
  "language_info": {
   "codemirror_mode": {
    "name": "ipython",
    "version": 3
   },
   "file_extension": ".py",
   "mimetype": "text/x-python",
   "name": "python",
   "nbconvert_exporter": "python",
   "pygments_lexer": "ipython3",
   "version": "3.5.2"
  }
 },
 "nbformat": 4,
 "nbformat_minor": 0
}
